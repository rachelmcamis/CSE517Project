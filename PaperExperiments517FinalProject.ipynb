{
  "nbformat": 4,
  "nbformat_minor": 0,
  "metadata": {
    "colab": {
      "provenance": []
    },
    "kernelspec": {
      "name": "python3",
      "display_name": "Python 3"
    },
    "language_info": {
      "name": "python"
    },
    "accelerator": "GPU",
    "gpuClass": "standard"
  },
  "cells": [
    {
      "cell_type": "code",
      "execution_count": null,
      "metadata": {
        "id": "UHzypafRxF2y"
      },
      "outputs": [],
      "source": [
        "# Clone the repo\n",
        "!git clone https://github.com/thunlp/StyleAttack.git"
      ]
    },
    {
      "cell_type": "code",
      "source": [
        "# Move to correct directory\n",
        "!pwd\n",
        "%cd /content/StyleAttack/experiments\n",
        "!pwd"
      ],
      "metadata": {
        "id": "B-tRIosVxijP"
      },
      "execution_count": null,
      "outputs": []
    },
    {
      "cell_type": "code",
      "source": [
        "# Install requirements\n",
        "!pwd\n",
        "!pip3 install torch\n",
        "!pip3 install transformers"
      ],
      "metadata": {
        "id": "PZUb90qxyzOW"
      },
      "execution_count": null,
      "outputs": []
    },
    {
      "cell_type": "code",
      "source": [
        "# Two tricks, MT and Aug\n",
        "tricks = [\"run_poison_bert_mt.py\", \"run_poison_bert_aug.py\"]\n",
        "# Three datasets\n",
        "datasets = [\"sst-2\", \"hate-speech\", \"ag\"]\n",
        "# Three BERT models\n",
        "models = [\"bert-base-uncased\", \"distilbert-base-uncased\", \"roberta-base\"]\n",
        "# Five poison styles present in their datasets\n",
        "styles = [\"bible\", \"lyrics\", \"poetry\", \"shakespeare\", \"tweets\"]  \n",
        "\n",
        "# Format string script to prepare the data\n",
        "# 0 = dataset, 1 = style\n",
        "sh = \"\"\"\n",
        "python prepare_probingdata.py --data {0} --transfer_type {1} --transfer_data_base_path ../data/transfer/{1}/{0} --orig_data_path ../data/clean/{0}\n",
        "\"\"\"\n",
        "\n",
        "# Format string script to actually run the model\n",
        "# 0 = trick, 1 = dataset, 2 = model, 3 = style\n",
        "sh2 = \"\"\"\n",
        "CUDA_VISIBLE_DEVICES=0 python {0} --data {1} --transferdata_path ../data/transfer/{3}/{1} --origdata_path ../data/clean/{1} --transfer_type {3} --bert_type {2} --output_num 2 --poison_method dirty --poison_rate 1 --blend False --transfer False \n",
        "\"\"\"\n",
        "\n",
        "for dataset in datasets:\n",
        "  for style in styles:\n",
        "    # Prepare the data\n",
        "    with open('script.sh', 'w') as file:\n",
        "          file.write(sh.format(dataset, style))\n",
        "    !bash script.sh\n",
        "\n",
        "    for trick in tricks:\n",
        "      for model in models:\n",
        "        with open('script2.sh', 'w') as file:\n",
        "          file.write(sh2.format(trick, dataset, model, style))\n",
        "\n",
        "        # Run the model and label output\n",
        "        print(f\"Currently running: {trick} / {dataset} / {model} / {style}\")\n",
        "        !bash script2.sh\n",
        "        print()\n",
        "        print()"
      ],
      "metadata": {
        "id": "sz306AnLQ7d0"
      },
      "execution_count": null,
      "outputs": []
    }
  ]
}